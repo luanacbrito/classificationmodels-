{
 "cells": [
  {
   "cell_type": "code",
   "execution_count": 2,
   "metadata": {},
   "outputs": [],
   "source": [
    "df = spark.read.format('com.databricks.spark.csv').\\\n",
    "                               options(header='true', \\\n",
    "                               inferschema='true') \\\n",
    "                .load(\"/home/bigdata/unswnb15_old.csv\",header=True);\n",
    "#df.show(5,True)"
   ]
  },
  {
   "cell_type": "code",
   "execution_count": 3,
   "metadata": {},
   "outputs": [
    {
     "name": "stdout",
     "output_type": "stream",
     "text": [
      "+--------------------+-----+\n",
      "|            features|label|\n",
      "+--------------------+-----+\n",
      "|[0.022316,3598.0,...|    0|\n",
      "|[1.064936,1580.0,...|    0|\n",
      "|[0.072091,2958.0,...|    0|\n",
      "+--------------------+-----+\n",
      "only showing top 3 rows\n",
      "\n"
     ]
    }
   ],
   "source": [
    "from pyspark.ml.feature import VectorAssembler\n",
    "vectorAssembler = VectorAssembler(inputCols = ['dur',\n",
    "                                               'sbytes',\n",
    "                                               'dbytes',\n",
    "                                               'sttl',\n",
    "                                               'dttl',\n",
    "                                               'sloss',\n",
    "                                               'dloss',\n",
    "                                               'sload',\n",
    "                                               'dload',\n",
    "                                               'spkts',\n",
    "                                               'tcprtt',\n",
    "                                               'synack',\n",
    "                                               'is_sm_ips_ports',\n",
    "                                               'dpkts',\n",
    "                                               'ct_dst_sport_ltm',\n",
    "                                               'ct_dst_src_ltm',\n",
    "                                               'label'], outputCol = 'features')\n",
    "v_unsw_data = vectorAssembler.setHandleInvalid(\"keep\").transform(df)\n",
    "v_unsw_data = v_unsw_data.select(['features', 'label'])\n",
    "v_unsw_data.show(3)"
   ]
  },
  {
   "cell_type": "code",
   "execution_count": 4,
   "metadata": {},
   "outputs": [],
   "source": [
    "splits = v_unsw_data.randomSplit([0.7, 0.3])\n",
    "train_df = splits[0]\n",
    "test_df = splits[1]"
   ]
  },
  {
   "cell_type": "code",
   "execution_count": 5,
   "metadata": {},
   "outputs": [
    {
     "name": "stdout",
     "output_type": "stream",
     "text": [
      "+--------------------+-----+\n",
      "|            features|label|\n",
      "+--------------------+-----+\n",
      "|(17,[0,1,2,3,4,7,...|    0|\n",
      "|(17,[0,1,2,3,4,7,...|    0|\n",
      "|(17,[0,1,2,3,4,7,...|    0|\n",
      "|(17,[0,1,2,3,4,7,...|    0|\n",
      "|(17,[0,1,2,3,4,7,...|    0|\n",
      "|(17,[0,1,2,3,4,7,...|    0|\n",
      "|(17,[0,1,2,3,4,7,...|    0|\n",
      "|(17,[0,1,2,3,4,7,...|    0|\n",
      "|(17,[0,1,2,3,4,7,...|    0|\n",
      "|(17,[0,1,2,3,4,8,...|    0|\n",
      "|(17,[0,1,2,3,4,9,...|    0|\n",
      "|(17,[0,1,2,3,4,9,...|    0|\n",
      "|(17,[0,1,2,3,4,9,...|    0|\n",
      "|(17,[0,1,2,7,8,9,...|    0|\n",
      "|(17,[0,1,2,7,8,9,...|    0|\n",
      "|(17,[0,1,2,7,8,9,...|    0|\n",
      "|(17,[0,1,2,7,8,9,...|    0|\n",
      "|(17,[0,1,2,7,8,9,...|    0|\n",
      "|(17,[0,1,2,7,8,9,...|    0|\n",
      "|(17,[0,1,2,7,8,9,...|    0|\n",
      "+--------------------+-----+\n",
      "only showing top 20 rows\n",
      "\n"
     ]
    }
   ],
   "source": [
    "train_df.show()"
   ]
  },
  {
   "cell_type": "code",
   "execution_count": 10,
   "metadata": {},
   "outputs": [],
   "source": [
    "from pyspark.ml.classification import RandomForestClassifier\n",
    "\n",
    "# Train a RandomForest model.\n",
    "rf = RandomForestClassifier(labelCol=\"label\", featuresCol=\"features\", numTrees=10)\n",
    "model = rf.fit(train_df)"
   ]
  },
  {
   "cell_type": "code",
   "execution_count": 11,
   "metadata": {},
   "outputs": [
    {
     "name": "stdout",
     "output_type": "stream",
     "text": [
      "+--------------------+-----+--------------------+--------------------+----------+\n",
      "|            features|label|       rawPrediction|         probability|prediction|\n",
      "+--------------------+-----+--------------------+--------------------+----------+\n",
      "|(17,[0,1,2,3,4,7,...|    0|[9.97158002269079...|[0.99715800226907...|       0.0|\n",
      "|(17,[0,1,2,3,4,7,...|    0|[9.97158002269079...|[0.99715800226907...|       0.0|\n",
      "|(17,[0,1,2,3,4,7,...|    0|[9.97158002269079...|[0.99715800226907...|       0.0|\n",
      "|(17,[0,1,2,3,4,8,...|    0|[9.97158002269079...|[0.99715800226907...|       0.0|\n",
      "|(17,[0,1,2,7,8,9,...|    0|[9.97158002269079...|[0.99715800226907...|       0.0|\n",
      "|(17,[0,1,2,7,8,9,...|    0|[9.97158002269079...|[0.99715800226907...|       0.0|\n",
      "|(17,[0,1,2,7,8,9,...|    0|[9.97158002269079...|[0.99715800226907...|       0.0|\n",
      "|(17,[0,1,2,7,8,9,...|    0|[9.97158002269079...|[0.99715800226907...|       0.0|\n",
      "|(17,[0,1,2,7,8,9,...|    0|[9.97158002269079...|[0.99715800226907...|       0.0|\n",
      "|(17,[0,1,2,7,8,9,...|    0|[9.97158002269079...|[0.99715800226907...|       0.0|\n",
      "|(17,[0,1,2,7,8,9,...|    0|[9.97158002269079...|[0.99715800226907...|       0.0|\n",
      "|(17,[0,1,2,7,8,9,...|    0|[9.97158002269079...|[0.99715800226907...|       0.0|\n",
      "|(17,[0,1,2,7,8,9,...|    0|[9.97158002269079...|[0.99715800226907...|       0.0|\n",
      "|(17,[0,1,2,7,8,9,...|    0|[9.97158002269079...|[0.99715800226907...|       0.0|\n",
      "|(17,[0,1,2,7,8,9,...|    0|[9.97158002269079...|[0.99715800226907...|       0.0|\n",
      "|(17,[0,1,2,7,8,9,...|    0|[9.97158002269079...|[0.99715800226907...|       0.0|\n",
      "|(17,[0,1,2,7,8,9,...|    0|[9.97158002269079...|[0.99715800226907...|       0.0|\n",
      "|(17,[0,1,2,7,8,9,...|    0|[9.97158002269079...|[0.99715800226907...|       0.0|\n",
      "|(17,[0,1,2,7,8,9,...|    0|[9.97158002269079...|[0.99715800226907...|       0.0|\n",
      "|(17,[0,1,2,7,8,9,...|    0|[9.97158002269079...|[0.99715800226907...|       0.0|\n",
      "+--------------------+-----+--------------------+--------------------+----------+\n",
      "only showing top 20 rows\n",
      "\n"
     ]
    }
   ],
   "source": [
    "pred = model.transform(test_df)\n",
    "pred.show()"
   ]
  },
  {
   "cell_type": "code",
   "execution_count": 12,
   "metadata": {},
   "outputs": [
    {
     "data": {
      "text/plain": [
       "1.0"
      ]
     },
     "execution_count": 12,
     "metadata": {},
     "output_type": "execute_result"
    }
   ],
   "source": [
    "#Binary class evaluator \n",
    "from pyspark.ml.evaluation import BinaryClassificationEvaluator\n",
    "evaluator = BinaryClassificationEvaluator(labelCol='label', metricName='areaUnderPR')\n",
    "evalu = evaluator.evaluate(pred)\n",
    "evalu"
   ]
  },
  {
   "cell_type": "code",
   "execution_count": 24,
   "metadata": {},
   "outputs": [
    {
     "data": {
      "text/plain": [
       "1.0"
      ]
     },
     "execution_count": 24,
     "metadata": {},
     "output_type": "execute_result"
    }
   ],
   "source": [
    "#Multiclass evaluator\n",
    "\n",
    "from pyspark.ml.evaluation import MulticlassClassificationEvaluator\n",
    "evaluator = MulticlassClassificationEvaluator(labelCol=\"label\",  metricName=\"accuracy\")\n",
    "accuracy = evaluator.evaluate(pred)\n",
    "accuracy"
   ]
  },
  {
   "cell_type": "code",
   "execution_count": 13,
   "metadata": {},
   "outputs": [
    {
     "name": "stdout",
     "output_type": "stream",
     "text": [
      "Coefficients: [0.0,0.0,0.0,0.0,0.0,0.0,0.0,0.0,0.0,0.0,0.0,0.0,0.0,0.0,0.0,0.0,0.0]\n",
      "Intercept: 0.031701565973584415\n"
     ]
    }
   ],
   "source": [
    "#Linear regression\n",
    "\n",
    "from pyspark.ml.regression import LinearRegression\n",
    "lr = LinearRegression(featuresCol = 'features', labelCol='label', maxIter=10, regParam=0.3, elasticNetParam=0.8)\n",
    "lr_model = lr.fit(train_df)\n",
    "print(\"Coefficients: \" + str(lr_model.coefficients))\n",
    "print(\"Intercept: \" + str(lr_model.intercept))"
   ]
  },
  {
   "cell_type": "code",
   "execution_count": 15,
   "metadata": {},
   "outputs": [],
   "source": [
    "#Confusion matrix \n",
    "from sklearn.metrics import accuracy_score\n",
    "label = pred.select('label').toPandas()\n",
    "predic = pred.select('prediction').toPandas()"
   ]
  },
  {
   "cell_type": "code",
   "execution_count": 17,
   "metadata": {},
   "outputs": [
    {
     "name": "stdout",
     "output_type": "stream",
     "text": [
      "[[203831      0]\n",
      " [     0   6700]]\n"
     ]
    },
    {
     "data": {
      "text/plain": [
       "Text(33.0, 0.5, 'Actual')"
      ]
     },
     "execution_count": 17,
     "metadata": {},
     "output_type": "execute_result"
    },
    {
     "data": {
      "image/png": "[encoded data removed]",
      "text/plain": [
       "<Figure size 432x288 with 2 Axes>"
      ]
     },
     "metadata": {
      "needs_background": "light"
     },
     "output_type": "display_data"
    }
   ],
   "source": [
    "from sklearn.metrics import confusion_matrix\n",
    "import matplotlib.pyplot as plt\n",
    "import seaborn as sn\n",
    "conf_mat = confusion_matrix(label, predic)\n",
    "print(conf_mat)\n",
    "cfs_mat = sn.heatmap(conf_mat, annot=True)\n",
    "plt.xlabel('Predicted')\n",
    "plt.ylabel('Actual')"
   ]
  },
  {
   "cell_type": "code",
   "execution_count": null,
   "metadata": {},
   "outputs": [],
   "source": []
  }
 ],
 "metadata": {
  "kernelspec": {
   "display_name": "Python 3",
   "language": "python",
   "name": "python3"
  },
  "language_info": {
   "codemirror_mode": {
    "name": "ipython",
    "version": 3
   },
   "file_extension": ".py",
   "mimetype": "text/x-python",
   "name": "python",
   "nbconvert_exporter": "python",
   "pygments_lexer": "ipython3",
   "version": "3.7.4"
  }
 },
 "nbformat": 4,
 "nbformat_minor": 2
}
